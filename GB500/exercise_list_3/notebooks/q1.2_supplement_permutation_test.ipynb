{
 "cells": [
  {
   "cell_type": "code",
   "execution_count": 1,
   "id": "40fa59d9-8df7-4f81-bba8-61c0f9e45e03",
   "metadata": {},
   "outputs": [],
   "source": [
    "import numpy as np\n",
    "import matplotlib.pyplot as plt"
   ]
  },
  {
   "cell_type": "markdown",
   "id": "22f90c20-ef68-4804-8244-248bfe36ccc9",
   "metadata": {},
   "source": [
    "Let't do some simple tests to check whether this permutation tests have a satisfying power for the observed situation."
   ]
  },
  {
   "cell_type": "markdown",
   "id": "fa1cdc75-aef9-4601-a2ad-0241ded48fc5",
   "metadata": {},
   "source": [
    "# Simple test\n",
    "\n",
    "Let's create a situation on which the null hypothesis is false, and the situation is actually the one observed in item (c) of notebook `q1_svm_pca_k.ipynb`, but assuming a normal distribution."
   ]
  },
  {
   "cell_type": "code",
   "execution_count": 29,
   "id": "61cb8f5a-965b-40a2-9e6d-c2c01eefe218",
   "metadata": {},
   "outputs": [
    {
     "data": {
      "text/plain": [
       "<matplotlib.legend.Legend at 0x7d305e925690>"
      ]
     },
     "execution_count": 29,
     "metadata": {},
     "output_type": "execute_result"
    },
    {
     "data": {
      "image/png": "[encoded data removed]",
      "text/plain": [
       "<Figure size 640x480 with 1 Axes>"
      ]
     },
     "metadata": {},
     "output_type": "display_data"
    }
   ],
   "source": [
    "np.random.seed(41)\n",
    "\n",
    "# Assuming the null hypotesis as false\n",
    "sample_a = np.random.normal(loc=0.9425, scale=0.029, size=4)  # (0.9425, 0.028613807855648963)\n",
    "sample_b = np.random.normal(loc=0.9625, scale=0.019, size=4) # (0.9624999999999999, 0.019202864369671536)\n",
    "\n",
    "\n",
    "\n",
    "mu_a = np.mean(sample_a)\n",
    "mu_b = np.mean(sample_b)\n",
    "\n",
    "test_statistics = abs(mu_a - mu_b)\n",
    "\n",
    "data = np.concat([sample_a, sample_b])\n",
    "tests = []\n",
    "\n",
    "for _ in range(100_000):\n",
    "    np.random.shuffle(data)\n",
    "    a, b = data[:4], data[4:]\n",
    "    tests.append(abs(np.mean(a) - np.mean(b)))\n",
    "\n",
    "counts, edges = np.histogram(tests, bins=10)\n",
    "\n",
    "alpha = np.percentile(tests, 95) \n",
    "plt.bar(edges[1:], counts/sum(counts), width=(edges[0]-edges[1])) \n",
    "\n",
    "# plt.plot(edges[1:], np.cumsum(counts/sum(counts)))\n",
    "\n",
    "plt.axvline(test_statistics, c=\"k\", label=\"Observed Value\")\n",
    "plt.axvline(alpha, c=\"r\", ls=\"--\", label=r\"$\\alpha = 0.05$\")\n",
    "\n",
    "plt.ylabel(\"Probability\")\n",
    "plt.xlabel(\"Difference in means\")\n",
    "plt.legend()"
   ]
  },
  {
   "cell_type": "markdown",
   "id": "a2b33c00-d58e-44f1-9a0e-03eb1f1d7f92",
   "metadata": {},
   "source": [
    "Now let't use the setup above to calculate power."
   ]
  },
  {
   "cell_type": "code",
   "execution_count": 31,
   "id": "a29482fb-2cb7-4775-8eac-1636eb01a3a2",
   "metadata": {},
   "outputs": [
    {
     "data": {
      "text/plain": [
       "0.146"
      ]
     },
     "execution_count": 31,
     "metadata": {},
     "output_type": "execute_result"
    }
   ],
   "source": [
    "\n",
    "\n",
    "np.random.seed(41)\n",
    "results = []\n",
    "\n",
    "SS = 4\n",
    "\n",
    "\n",
    "for _ in range(500):\n",
    "    # Assuming the null hypotesis as false\n",
    "    sample_a = np.random.normal(loc=0.9425, scale=0.029, size=SS)  # (0.9425, 0.028613807855648963)\n",
    "    sample_b = np.random.normal(loc=0.9625, scale=0.019, size=SS) # (0.9624999999999999, 0.019202864369671536)\n",
    "    \n",
    "    # Calculating means\n",
    "    mu_a = np.mean(sample_a)\n",
    "    mu_b = np.mean(sample_b)\n",
    "    \n",
    "    test_statistics = abs(mu_a - mu_b)\n",
    "    \n",
    "    data = np.concat([sample_a, sample_b])\n",
    "    tests = []\n",
    "    \n",
    "    for _ in range(10_000):\n",
    "        np.random.shuffle(data)\n",
    "        a, b = data[:SS], data[SS:]\n",
    "        tests.append(abs(np.mean(a) - np.mean(b)))\n",
    "    \n",
    "    results.append((sum(tests >= test_statistics) / len(tests)).item() < 0.05)\n",
    "    \n",
    "\n",
    "np.mean(results).item()"
   ]
  },
  {
   "cell_type": "markdown",
   "id": "d41e9318-2bef-400c-a70f-808fb7df6079",
   "metadata": {},
   "source": [
    "# Let's check other tests"
   ]
  },
  {
   "cell_type": "code",
   "execution_count": 32,
   "id": "bbfee03f-8891-47e3-92b1-eac2a0f16886",
   "metadata": {},
   "outputs": [],
   "source": [
    "from scipy.stats import mannwhitneyu\n",
    "\n"
   ]
  },
  {
   "cell_type": "code",
   "execution_count": 39,
   "id": "bc8e9f51-bd99-4e4d-8ee8-b0b7ae2915ef",
   "metadata": {},
   "outputs": [
    {
     "data": {
      "text/plain": [
       "0.95"
      ]
     },
     "execution_count": 39,
     "metadata": {},
     "output_type": "execute_result"
    }
   ],
   "source": [
    "np.random.seed(41)\n",
    "results = []\n",
    "\n",
    "SS = 45\n",
    "\n",
    "\n",
    "for _ in range(1000):\n",
    "    # Assuming the null hypotesis as false\n",
    "    sample_a = np.random.normal(loc=0.9425, scale=0.029, size=SS)  # (0.9425, 0.028613807855648963)\n",
    "    sample_b = np.random.normal(loc=0.9625, scale=0.019, size=SS) # (0.9624999999999999, 0.019202864369671536)\n",
    "    \n",
    "    results.append(mannwhitneyu(sample_a, sample_b)[1].item() <= 0.05)\n",
    "    \n",
    "\n",
    "np.mean(results).item()"
   ]
  }
 ],
 "metadata": {
  "kernelspec": {
   "display_name": "Python 3 (ipykernel)",
   "language": "python",
   "name": "python3"
  },
  "language_info": {
   "codemirror_mode": {
    "name": "ipython",
    "version": 3
   },
   "file_extension": ".py",
   "mimetype": "text/x-python",
   "name": "python",
   "nbconvert_exporter": "python",
   "pygments_lexer": "ipython3",
   "version": "3.11.9"
  }
 },
 "nbformat": 4,
 "nbformat_minor": 5
}
